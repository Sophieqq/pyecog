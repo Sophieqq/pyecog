{
 "cells": [
  {
   "cell_type": "code",
   "execution_count": 34,
   "metadata": {
    "collapsed": true
   },
   "outputs": [],
   "source": [
    "import os\n",
    "import h5py \n"
   ]
  },
  {
   "cell_type": "code",
   "execution_count": 35,
   "metadata": {},
   "outputs": [],
   "source": [
    "\n",
    "folder = 'G:/NKH mice/April 23rd - May 14th 2018/H5'  #H5 folder contianing EEG data\n",
    "correct_tids = [9, 11, 13, 14]   #TiDs that need to be kept. Put in a list separated by commas. e.g.: [1,7,113,45]"
   ]
  },
  {
   "cell_type": "code",
   "execution_count": 36,
   "metadata": {},
   "outputs": [],
   "source": [
    "filepaths = [os.path.join(folder, f) for f in os.listdir(folder)]\n",
    "correct_tids = [str(tid) for tid in correct_tids]\n"
   ]
  },
  {
   "cell_type": "code",
   "execution_count": 37,
   "metadata": {
    "scrolled": true
   },
   "outputs": [],
   "source": [
    "for f in filepaths:\n",
    "    with h5py.File(f) as h5:\n",
    "        mcode = list(h5.keys())[0]\n",
    "        tids = list(h5[mcode].keys())\n",
    "\n",
    "        for tid in tids:\n",
    "            if tid not in correct_tids:\n",
    "                del h5[mcode][tid]\n",
    "        tids = list(h5[mcode].keys())\n",
    "        \n",
    "        tids = [int(tid) for tid in tids]\n",
    "        tids.sort()\n",
    "        \n",
    "#         print(tids)\n",
    "        \n",
    "    source = f.split('[')\n",
    "    os.renames(f, (source[0] + str(tids) + '.h5'))\n",
    "\n",
    "    \n",
    "    \n",
    "                \n",
    "\n",
    "\n",
    "\n"
   ]
  },
  {
   "cell_type": "code",
   "execution_count": 30,
   "metadata": {},
   "outputs": [],
   "source": [
    "a = [13,11,9,14]"
   ]
  },
  {
   "cell_type": "code",
   "execution_count": 32,
   "metadata": {},
   "outputs": [],
   "source": [
    "a.sort()"
   ]
  },
  {
   "cell_type": "code",
   "execution_count": 33,
   "metadata": {},
   "outputs": [
    {
     "data": {
      "text/plain": [
       "[9, 11, 13, 14]"
      ]
     },
     "execution_count": 33,
     "metadata": {},
     "output_type": "execute_result"
    }
   ],
   "source": [
    "a"
   ]
  }
 ],
 "metadata": {
  "kernelspec": {
   "display_name": "Python 3",
   "language": "python",
   "name": "python3"
  },
  "language_info": {
   "codemirror_mode": {
    "name": "ipython",
    "version": 3
   },
   "file_extension": ".py",
   "mimetype": "text/x-python",
   "name": "python",
   "nbconvert_exporter": "python",
   "pygments_lexer": "ipython3",
   "version": "3.5.3"
  }
 },
 "nbformat": 4,
 "nbformat_minor": 2
}
